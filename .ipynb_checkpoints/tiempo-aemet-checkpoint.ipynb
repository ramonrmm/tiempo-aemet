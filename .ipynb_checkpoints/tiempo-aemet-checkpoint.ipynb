{
 "cells": [
  {
   "cell_type": "markdown",
   "id": "9e9dc630-f82e-4bb0-8a4f-b9d14c83b45f",
   "metadata": {},
   "source": [
    "# Previsión del tiempo para mañana\n",
    "### Se hace una consulta a la API de Aemet por cada comunidad autónoma\n",
    "Primero sacamos las URLS de consulta de cada comunidad autónoma de la sección de Opendata de Aemet"
   ]
  },
  {
   "cell_type": "code",
   "execution_count": 1,
   "id": "b0f63c3e-8130-436f-8642-bf218825f7f6",
   "metadata": {},
   "outputs": [],
   "source": [
    "import requests # Para hacer la consulta\n",
    "from IPython.display import display, HTML # Para mostrar html en celdas de Jupiter Labs\n",
    "from datetime import datetime, timedelta # Para menejar fechas en Python\n",
    "from babel.dates import format_date # Para convertir las fechas a español \n",
    "import re # Para manejar expresiones regulares"
   ]
  },
  {
   "cell_type": "code",
   "execution_count": 2,
   "id": "61e22722-e171-4972-8429-fd62359abce2",
   "metadata": {},
   "outputs": [],
   "source": [
    "# Almacenamos en un diccionario las URLS de conexión de Aemet por regiones\n",
    "regiones = {\n",
    "    \"Andalucía\": \"https://opendata.aemet.es/opendata/api/prediccion/ccaa/manana/and\",\n",
    "    \"Aragón\": \"https://opendata.aemet.es/opendata/api/prediccion/ccaa/manana/arn\",\n",
    "    \"Asturias\": \"https://opendata.aemet.es/opendata/api/prediccion/ccaa/manana/ast\",\n",
    "    \"Baleares\": \"https://opendata.aemet.es/opendata/api/prediccion/ccaa/manana/bal\",\n",
    "    \"Canarias\": \"https://opendata.aemet.es/opendata/api/prediccion/ccaa/manana/coo\",\n",
    "    \"Cantabria\": \"https://opendata.aemet.es/opendata/api/prediccion/ccaa/manana/can\",\n",
    "    \"Castilla y León\": \"https://opendata.aemet.es/opendata/api/prediccion/ccaa/manana/cle\",\n",
    "    \"Castilla La Mancha\": \"https://opendata.aemet.es/opendata/api/prediccion/ccaa/manana/clm\",\n",
    "    \"Cataluña\": \"https://opendata.aemet.es/opendata/api/prediccion/ccaa/manana/cat\",\n",
    "    \"Comunidad Valenciana\": \"https://opendata.aemet.es/opendata/api/prediccion/ccaa/manana/val\",\n",
    "    \"Extremadura\": \"https://opendata.aemet.es/opendata/api/prediccion/ccaa/manana/ext\",\n",
    "    \"Galicia\": \"https://opendata.aemet.es/opendata/api/prediccion/ccaa/manana/gal\",\n",
    "    \"Comunidad de Madrid\": \"https://opendata.aemet.es/opendata/api/prediccion/ccaa/manana/mad\",\n",
    "    \"Murcia\": \"https://opendata.aemet.es/opendata/api/prediccion/ccaa/manana/mur\",\n",
    "    \"Navarra\": \"https://opendata.aemet.es/opendata/api/prediccion/ccaa/manana/nav\",\n",
    "    \"País Vasco\": \"https://opendata.aemet.es/opendata/api/prediccion/ccaa/manana/pva\",\n",
    "    \"La Rioja\": \"https://opendata.aemet.es/opendata/api/prediccion/ccaa/manana/rio\"\n",
    "}\n",
    "\n",
    "# API key (cada usuario tiene que ir a la web de Aemet a solicitar una )\n",
    "api_key = {\"api_key\": \"-------APIKEY-------\"}"
   ]
  },
  {
   "cell_type": "code",
   "execution_count": 3,
   "id": "7199e982-4edb-4574-9db7-96774098b95e",
   "metadata": {},
   "outputs": [],
   "source": [
    "# Función que se le pasa el text del request para formatearlo y mostrarlo correctamente\n",
    "def formateo_prediccion(prediccion):\n",
    "    fecha_elaboracion_prediccion = re.search(r\"DÍA(.*)HORA OFICIAL\",prediccion).group(1).strip().capitalize()\n",
    "    fenomenos_significativos = re.sub(r\"\\r\\r\\n\",\" \",re.search(r\"FENÓMENOS SIGNIFICATIVOS(.*)B.- PREDICCIÓN\",prediccion,re.DOTALL).group(1).strip())\n",
    "    prediccion_aemet = re.sub(r\"\\r\\r\\n\",\" \",re.search(r\"B.- PREDICCIÓN(.*)\",prediccion,re.DOTALL).group(1).strip())\n",
    "    display(HTML(f'<span style=\"font-weight:bold\">Fecha de publicación de la previsión:</span> {fecha_elaboracion_prediccion}'))\n",
    "    display(HTML(f'<span style=\"font-weight:bold\">Fenómenos significativos:</span> {fenomenos_significativos}'))\n",
    "    display(HTML(f'<span style=\"font-weight:bold\">Predicción:</span> {prediccion_aemet}'))\n",
    "    print()\n",
    "    return"
   ]
  },
  {
   "cell_type": "code",
   "execution_count": 5,
   "id": "f06768bd-68f8-4bb0-9dec-8868139023ec",
   "metadata": {},
   "outputs": [],
   "source": [
    "# Función que devuelve la fecha de mañana en español\n",
    "# Ejemplo: lunes 3 de febrero de 2025\n",
    "def mañana():\n",
    "    mañana = datetime.now() + timedelta(days=1)\n",
    "    fecha_español = format_date(mañana, format=\"full\", locale=\"es\")\n",
    "    return fecha_español"
   ]
  },
  {
   "cell_type": "code",
   "execution_count": 8,
   "id": "53e65804-9199-4cd5-b648-0ffffa41bd52",
   "metadata": {},
   "outputs": [],
   "source": [
    "# Función que hace la consulta a la API y no devuelve nada\n",
    "# Se le pasa dos cadenascomo argumentos:\n",
    "# a (Nombre de la región) / b (URL de consulta de esa región)\n",
    "def consulta_api(a,b):\n",
    "    try:\n",
    "        r = requests.get(b, headers={\"cache-control\": \"no-cache\"}, params=api_key)\n",
    "        r2 = requests.get(r.json()['datos'], headers={\"cache-control\": \"no-cache\"}, params=api_key)\n",
    "        display(HTML(f'<h3 style=\"text-decoration:underline\">{a}</h3>'))\n",
    "        \n",
    "        # Se llama a la función formateo_prediccion para mostrar bien los textos:\n",
    "        formateo_prediccion(r2.text)\n",
    "    except requests.exceptions.ConnectionError as e: \n",
    "        print(f\"No hay conexión a Internet: {e}\")\n",
    "    except requests.exceptions.Timeout as e:\n",
    "        print(f\"La solicitud tardó demasiado en responder: {e}\")\n",
    "    except requests.exceptions.HTTPError as e:\n",
    "        print(f\"Error HTTP. Por favor, inténtelo más tarde: {e}\")\n",
    "    return\n"
   ]
  },
  {
   "cell_type": "code",
   "execution_count": 6,
   "id": "69433ed6-c79b-4ce8-a1bf-a3ae58951092",
   "metadata": {},
   "outputs": [
    {
     "data": {
      "text/html": [
       "<h2>Predicción del tiempo para el lunes, 3 de febrero de 2025</h2>"
      ],
      "text/plain": [
       "<IPython.core.display.HTML object>"
      ]
     },
     "metadata": {},
     "output_type": "display_data"
    },
    {
     "data": {
      "text/html": [
       "<h3 style=\"text-decoration:underline\">Andalucía</h3>"
      ],
      "text/plain": [
       "<IPython.core.display.HTML object>"
      ]
     },
     "metadata": {},
     "output_type": "display_data"
    },
    {
     "data": {
      "text/html": [
       "<span style=\"font-weight:bold\">Fecha de publicación de la previsión:</span> 2 de febrero de 2025 a las 14:07"
      ],
      "text/plain": [
       "<IPython.core.display.HTML object>"
      ]
     },
     "metadata": {},
     "output_type": "display_data"
    },
    {
     "data": {
      "text/html": [
       "<span style=\"font-weight:bold\">Fenómenos significativos:</span> Precipitaciones localmente fuertes y persistentes en el litoral malagueño y el área del Estrecho. Nevadas por encima de 1300 metros. Levante fuerte en el litoral mediterráneo y el Estrecho, con rachas ocasionalmente muy fuertes."
      ],
      "text/plain": [
       "<IPython.core.display.HTML object>"
      ]
     },
     "metadata": {},
     "output_type": "display_data"
    },
    {
     "data": {
      "text/html": [
       "<span style=\"font-weight:bold\">Predicción:</span> Cielos cubiertos, con precipitaciones en general débiles a moderadas, menos probables en el extremo occidental y las sierras del nordeste, abriéndose claros de norte a sur a partir de la tarde. En el litoral malagueño y el área del Estrecho es probable que las precipitaciones sean localmente fuertes y persistentes, pudiendo ir ocasionalmente acompañadas de tormentas y granizo pequeño. Cota de nieve oscilando entre 1200 y 1500 metros, con tendencia a subir durante la tarde. Temperaturas mínimas en descenso en el extremo occidental y en ascenso en el resto, con heladas débiles aisladas en el interior oriental; máximas en ascenso en Sierra Morena y en descenso en las demás zonas. Vientos flojos a moderados de componente este. Levante moderado en el litoral mediterráneo y el Estrecho, aumentando a fuerte con rachas ocasionalmente muy fuertes."
      ],
      "text/plain": [
       "<IPython.core.display.HTML object>"
      ]
     },
     "metadata": {},
     "output_type": "display_data"
    },
    {
     "name": "stdout",
     "output_type": "stream",
     "text": [
      "\n"
     ]
    },
    {
     "data": {
      "text/html": [
       "<h3 style=\"text-decoration:underline\">Aragón</h3>"
      ],
      "text/plain": [
       "<IPython.core.display.HTML object>"
      ]
     },
     "metadata": {},
     "output_type": "display_data"
    },
    {
     "data": {
      "text/html": [
       "<span style=\"font-weight:bold\">Fecha de publicación de la previsión:</span> 2 de febrero de 2025 a las 13:43"
      ],
      "text/plain": [
       "<IPython.core.display.HTML object>"
      ]
     },
     "metadata": {},
     "output_type": "display_data"
    },
    {
     "data": {
      "text/html": [
       "<span style=\"font-weight:bold\">Fenómenos significativos:</span> Posibles heladas localmente fuertes en el Pirineo."
      ],
      "text/plain": [
       "<IPython.core.display.HTML object>"
      ]
     },
     "metadata": {},
     "output_type": "display_data"
    },
    {
     "data": {
      "text/html": [
       "<span style=\"font-weight:bold\">Predicción:</span> Cielo despejado, con intervalos de nubes bajas, brumas y bancos de niebla por la mañana en el sistema Ibérico y la depresión del Ebro. Temperaturas en ligero ascenso, más acusado en el caso de las mínimas en la mitad oeste y de las máximas en el Pirineo. Heladas en el Pirineo, que podrían ser localmente fuertes, y en sistema Ibérico de Teruel, extendiéndose al resto, salvo el valle del Ebro, con intensidad débil. Viento flojo de componentes norte y oeste."
      ],
      "text/plain": [
       "<IPython.core.display.HTML object>"
      ]
     },
     "metadata": {},
     "output_type": "display_data"
    },
    {
     "name": "stdout",
     "output_type": "stream",
     "text": [
      "\n"
     ]
    },
    {
     "data": {
      "text/html": [
       "<h3 style=\"text-decoration:underline\">Asturias</h3>"
      ],
      "text/plain": [
       "<IPython.core.display.HTML object>"
      ]
     },
     "metadata": {},
     "output_type": "display_data"
    },
    {
     "data": {
      "text/html": [
       "<span style=\"font-weight:bold\">Fecha de publicación de la previsión:</span> 2 de febrero de 2025 a las 12:45"
      ],
      "text/plain": [
       "<IPython.core.display.HTML object>"
      ]
     },
     "metadata": {},
     "output_type": "display_data"
    },
    {
     "data": {
      "text/html": [
       "<span style=\"font-weight:bold\">Fenómenos significativos:</span> No se esperan."
      ],
      "text/plain": [
       "<IPython.core.display.HTML object>"
      ]
     },
     "metadata": {},
     "output_type": "display_data"
    },
    {
     "data": {
      "text/html": [
       "<span style=\"font-weight:bold\">Predicción:</span> Intervalos nubosos, menos abundantes por la tarde. Precipitaciones débiles de madrugada que remitirán a lo largo de la mañana y que no se esperan durante la tarde. Brumas y probabilidad de nieblas dispersas en zonas altas de la Cordillera al principio y final del día. Temperaturas mínimas en descenso en el litoral noroeste y con cambios ligeros en el resto. Temperaturas máximas en aumento. Heladas débiles en la Cordillera, localmente moderadas en zonas muy altas. Vientos flojos variables."
      ],
      "text/plain": [
       "<IPython.core.display.HTML object>"
      ]
     },
     "metadata": {},
     "output_type": "display_data"
    },
    {
     "name": "stdout",
     "output_type": "stream",
     "text": [
      "\n"
     ]
    },
    {
     "data": {
      "text/html": [
       "<h3 style=\"text-decoration:underline\">Baleares</h3>"
      ],
      "text/plain": [
       "<IPython.core.display.HTML object>"
      ]
     },
     "metadata": {},
     "output_type": "display_data"
    },
    {
     "data": {
      "text/html": [
       "<span style=\"font-weight:bold\">Fecha de publicación de la previsión:</span> 2 de febrero de 2025 a las 12:08"
      ],
      "text/plain": [
       "<IPython.core.display.HTML object>"
      ]
     },
     "metadata": {},
     "output_type": "display_data"
    },
    {
     "data": {
      "text/html": [
       "<span style=\"font-weight:bold\">Fenómenos significativos:</span> No se esperan."
      ],
      "text/plain": [
       "<IPython.core.display.HTML object>"
      ]
     },
     "metadata": {},
     "output_type": "display_data"
    },
    {
     "data": {
      "text/html": [
       "<span style=\"font-weight:bold\">Predicción:</span> Cielo nuboso con probabilidad de precipitaciones dispersas tendiendo por la mañana a cielo poco nuboso o despejado. Temperaturas con pocos cambios o en ascenso, alcanzándose las mínimas al final del día. Viento entre flojo y moderado del norte."
      ],
      "text/plain": [
       "<IPython.core.display.HTML object>"
      ]
     },
     "metadata": {},
     "output_type": "display_data"
    },
    {
     "name": "stdout",
     "output_type": "stream",
     "text": [
      "\n"
     ]
    },
    {
     "data": {
      "text/html": [
       "<h3 style=\"text-decoration:underline\">Canarias</h3>"
      ],
      "text/plain": [
       "<IPython.core.display.HTML object>"
      ]
     },
     "metadata": {},
     "output_type": "display_data"
    },
    {
     "data": {
      "text/html": [
       "<span style=\"font-weight:bold\">Fecha de publicación de la previsión:</span> 2 de febrero de 2025 a las 15:43"
      ],
      "text/plain": [
       "<IPython.core.display.HTML object>"
      ]
     },
     "metadata": {},
     "output_type": "display_data"
    },
    {
     "data": {
      "text/html": [
       "<span style=\"font-weight:bold\">Fenómenos significativos:</span> No se esperan."
      ],
      "text/plain": [
       "<IPython.core.display.HTML object>"
      ]
     },
     "metadata": {},
     "output_type": "display_data"
    },
    {
     "data": {
      "text/html": [
       "<span style=\"font-weight:bold\">Predicción:</span> En el norte de las islas de mayor relieve nuboso con probables lluvias débiles que podrán ser localmente moderadas en medianías al inicio, principalmente en Gran Canaria. Por la tarde remitirán las precipitaciones y se abrirán claros. En el resto de zonas, intervalos nubosos tendiendo a poco nuboso, con baja probabilidad de lluvias débiles y ocasionales a primeras horas en las islas más orientales. Temperaturas con pocos cambios. Alisio moderado con intervalos de fuerte en vertientes sureste y noroeste y, de madrugada, en zonas altas de Gran Canaria y La Gomera."
      ],
      "text/plain": [
       "<IPython.core.display.HTML object>"
      ]
     },
     "metadata": {},
     "output_type": "display_data"
    },
    {
     "name": "stdout",
     "output_type": "stream",
     "text": [
      "\n"
     ]
    },
    {
     "data": {
      "text/html": [
       "<h3 style=\"text-decoration:underline\">Cantabria</h3>"
      ],
      "text/plain": [
       "<IPython.core.display.HTML object>"
      ]
     },
     "metadata": {},
     "output_type": "display_data"
    },
    {
     "data": {
      "text/html": [
       "<span style=\"font-weight:bold\">Fecha de publicación de la previsión:</span> 2 de febrero de 2025 a las 12:45"
      ],
      "text/plain": [
       "<IPython.core.display.HTML object>"
      ]
     },
     "metadata": {},
     "output_type": "display_data"
    },
    {
     "data": {
      "text/html": [
       "<span style=\"font-weight:bold\">Fenómenos significativos:</span> No se esperan."
      ],
      "text/plain": [
       "<IPython.core.display.HTML object>"
      ]
     },
     "metadata": {},
     "output_type": "display_data"
    },
    {
     "data": {
      "text/html": [
       "<span style=\"font-weight:bold\">Predicción:</span> Nuboso disminuyendo a intervalos nubosos y a poco nuboso. Brumas y probabilidad de nieblas dispersas en zonas altas del interior al principio y final del día. Temperaturas mínimas con cambios ligeros predominando los descensos. Temperaturas máximas en aumento. Heladas débiles y dispersas en zonas altas del interior, localmente moderadas en cumbres de la Cordillera. Vientos flojos variables."
      ],
      "text/plain": [
       "<IPython.core.display.HTML object>"
      ]
     },
     "metadata": {},
     "output_type": "display_data"
    },
    {
     "name": "stdout",
     "output_type": "stream",
     "text": [
      "\n"
     ]
    },
    {
     "data": {
      "text/html": [
       "<h3 style=\"text-decoration:underline\">Castilla y León</h3>"
      ],
      "text/plain": [
       "<IPython.core.display.HTML object>"
      ]
     },
     "metadata": {},
     "output_type": "display_data"
    },
    {
     "data": {
      "text/html": [
       "<span style=\"font-weight:bold\">Fecha de publicación de la previsión:</span> 2 de febrero de 2025 a las 12:50"
      ],
      "text/plain": [
       "<IPython.core.display.HTML object>"
      ]
     },
     "metadata": {},
     "output_type": "display_data"
    },
    {
     "data": {
      "text/html": [
       "<span style=\"font-weight:bold\">Fenómenos significativos:</span> No se esperan."
      ],
      "text/plain": [
       "<IPython.core.display.HTML object>"
      ]
     },
     "metadata": {},
     "output_type": "display_data"
    },
    {
     "data": {
      "text/html": [
       "<span style=\"font-weight:bold\">Predicción:</span> Intervalos de nubes bajas junto con algunas brumas y bancos de niebla. A medida que avance el día, se irán abriendo grandes claros hasta quedar despejado en la mayor pare de la región. No se descarta alguna precipitación aislada en la Cantábrica y oeste del Sistema central al inicio del día, con la cota de nieve sobre los 1000 metros. Temperaturas mínimas en ligero descenso en el extremo oeste y sin cambios o en ligero ascenso en el resto, y máximas en ascenso, más acusado en el extremo norte y cuadrante nororiental. Heladas débiles, localmente moderadas, sobre todo en zonas altas de montaña. Viento flojo con predominio del moreste."
      ],
      "text/plain": [
       "<IPython.core.display.HTML object>"
      ]
     },
     "metadata": {},
     "output_type": "display_data"
    },
    {
     "name": "stdout",
     "output_type": "stream",
     "text": [
      "\n"
     ]
    },
    {
     "data": {
      "text/html": [
       "<h3 style=\"text-decoration:underline\">Castilla La Mancha</h3>"
      ],
      "text/plain": [
       "<IPython.core.display.HTML object>"
      ]
     },
     "metadata": {},
     "output_type": "display_data"
    },
    {
     "data": {
      "text/html": [
       "<span style=\"font-weight:bold\">Fecha de publicación de la previsión:</span> 2 de febrero de 2025 a las 12:36"
      ],
      "text/plain": [
       "<IPython.core.display.HTML object>"
      ]
     },
     "metadata": {},
     "output_type": "display_data"
    },
    {
     "data": {
      "text/html": [
       "<span style=\"font-weight:bold\">Fenómenos significativos:</span> No se esperan."
      ],
      "text/plain": [
       "<IPython.core.display.HTML object>"
      ]
     },
     "metadata": {},
     "output_type": "display_data"
    },
    {
     "data": {
      "text/html": [
       "<span style=\"font-weight:bold\">Predicción:</span> Poco nuboso o despejado, salvo intervalos nubosos por la mañana principalmente en la mitad occidental y alguno por la tarde en la oriental. Brumas y probables nieblas matinales dispersas en zonas montañosas de Guadalajara. Probabilidad de lluvias débiles a moderadas en el tercio oeste de madrugada que por la mañana no se descartan en el suroeste de Ciudad Real. Temperaturas mínimas en ascenso que será ligero o sin cambios en Albacete, este de Cuenca y zonas montañosas de Toledo. Temperaturas máximas en aumento en el nordeste y en puntos del extremo occidental y con pocos cambios en el resto. Heladas débiles en gran parte de la mitad oriental y del este de Toledo. Vientos flojos de componente este con algún intervalo moderado en la mitad occidental en horas centrales."
      ],
      "text/plain": [
       "<IPython.core.display.HTML object>"
      ]
     },
     "metadata": {},
     "output_type": "display_data"
    },
    {
     "name": "stdout",
     "output_type": "stream",
     "text": [
      "\n"
     ]
    },
    {
     "data": {
      "text/html": [
       "<h3 style=\"text-decoration:underline\">Cataluña</h3>"
      ],
      "text/plain": [
       "<IPython.core.display.HTML object>"
      ]
     },
     "metadata": {},
     "output_type": "display_data"
    },
    {
     "data": {
      "text/html": [
       "<span style=\"font-weight:bold\">Fecha de publicación de la previsión:</span> 2 de febrero de 2025 a las 13:44"
      ],
      "text/plain": [
       "<IPython.core.display.HTML object>"
      ]
     },
     "metadata": {},
     "output_type": "display_data"
    },
    {
     "data": {
      "text/html": [
       "<span style=\"font-weight:bold\">Fenómenos significativos:</span> No se esperan."
      ],
      "text/plain": [
       "<IPython.core.display.HTML object>"
      ]
     },
     "metadata": {},
     "output_type": "display_data"
    },
    {
     "data": {
      "text/html": [
       "<span style=\"font-weight:bold\">Predicción:</span> Cielo poco nuboso o despejado, con brumas y bancos de niebla matinales en la depresión central. Temperaturas mínimas en ligero ascenso en el Pirineo, ligero descenso en el cuadrante nordeste y con pocos cambios en el resto; máximas en ascenso, más acusado en el cuadrante nordeste. Heladas en el Pirineo, que se extenderán con intensidad débil a otros puntos del interior. Viento moderado del norte en el Ampurdán, y flojo variable en el resto, con predominio de la componente oeste la primera mitad del día e intervalos de noroeste moderado en el litoral sur de Tarragona por la mañana."
      ],
      "text/plain": [
       "<IPython.core.display.HTML object>"
      ]
     },
     "metadata": {},
     "output_type": "display_data"
    },
    {
     "name": "stdout",
     "output_type": "stream",
     "text": [
      "\n"
     ]
    },
    {
     "data": {
      "text/html": [
       "<h3 style=\"text-decoration:underline\">Comunidad Valenciana</h3>"
      ],
      "text/plain": [
       "<IPython.core.display.HTML object>"
      ]
     },
     "metadata": {},
     "output_type": "display_data"
    },
    {
     "data": {
      "text/html": [
       "<span style=\"font-weight:bold\">Fecha de publicación de la previsión:</span> 2 de febrero de 2025 a las 13:44"
      ],
      "text/plain": [
       "<IPython.core.display.HTML object>"
      ]
     },
     "metadata": {},
     "output_type": "display_data"
    },
    {
     "data": {
      "text/html": [
       "<span style=\"font-weight:bold\">Fenómenos significativos:</span> No se esperan."
      ],
      "text/plain": [
       "<IPython.core.display.HTML object>"
      ]
     },
     "metadata": {},
     "output_type": "display_data"
    },
    {
     "data": {
      "text/html": [
       "<span style=\"font-weight:bold\">Predicción:</span> Cielo poco nuboso, con intervalos nubosos en el litoral sur de Valencia y norte de Alicate por la tarde. Probables brumas y bancos de niebla por la mañana en el interior norte de Castellón. Temperaturas con pocos cambios, salvo ligero ascenso de las máximas en el tercio norte. Heladas débiles en el interior. Viento flojo variable, predominando la componente este en las horas centrales, con intervalos de nordeste moderado en el litoral sur la segunda mitad del día."
      ],
      "text/plain": [
       "<IPython.core.display.HTML object>"
      ]
     },
     "metadata": {},
     "output_type": "display_data"
    },
    {
     "name": "stdout",
     "output_type": "stream",
     "text": [
      "\n"
     ]
    },
    {
     "data": {
      "text/html": [
       "<h3 style=\"text-decoration:underline\">Extremadura</h3>"
      ],
      "text/plain": [
       "<IPython.core.display.HTML object>"
      ]
     },
     "metadata": {},
     "output_type": "display_data"
    },
    {
     "data": {
      "text/html": [
       "<span style=\"font-weight:bold\">Fecha de publicación de la previsión:</span> 2 de febrero de 2025 a las 13:36"
      ],
      "text/plain": [
       "<IPython.core.display.HTML object>"
      ]
     },
     "metadata": {},
     "output_type": "display_data"
    },
    {
     "data": {
      "text/html": [
       "<span style=\"font-weight:bold\">Fenómenos significativos:</span> No se esperan."
      ],
      "text/plain": [
       "<IPython.core.display.HTML object>"
      ]
     },
     "metadata": {},
     "output_type": "display_data"
    },
    {
     "data": {
      "text/html": [
       "<span style=\"font-weight:bold\">Predicción:</span> Nuboso al inicio, disminuyendo la nubosidad a lo largo del día de norte a sur. Se esperan precipitaciones durante la mañana, más intensas en la mitad este a primeras horas. Temperaturas mínimas en descenso en la mitad occidental y sin cambios en la oriental y máximas sin cambios o en ligero ascenso. Viento flojo del noreste."
      ],
      "text/plain": [
       "<IPython.core.display.HTML object>"
      ]
     },
     "metadata": {},
     "output_type": "display_data"
    },
    {
     "name": "stdout",
     "output_type": "stream",
     "text": [
      "\n"
     ]
    },
    {
     "data": {
      "text/html": [
       "<h3 style=\"text-decoration:underline\">Galicia</h3>"
      ],
      "text/plain": [
       "<IPython.core.display.HTML object>"
      ]
     },
     "metadata": {},
     "output_type": "display_data"
    },
    {
     "data": {
      "text/html": [
       "<span style=\"font-weight:bold\">Fecha de publicación de la previsión:</span> 2 de febrero de 2025 a las 12:45"
      ],
      "text/plain": [
       "<IPython.core.display.HTML object>"
      ]
     },
     "metadata": {},
     "output_type": "display_data"
    },
    {
     "data": {
      "text/html": [
       "<span style=\"font-weight:bold\">Fenómenos significativos:</span> No se esperan."
      ],
      "text/plain": [
       "<IPython.core.display.HTML object>"
      ]
     },
     "metadata": {},
     "output_type": "display_data"
    },
    {
     "data": {
      "text/html": [
       "<span style=\"font-weight:bold\">Predicción:</span> Poco nuboso o despejado, con intervalos de nubes bajas por la mañana que se mantendrán, dispersas, en la mitad norte de Lugo donde se esperan precipitaciones débiles por la mañana. Brumas y probabilidad de nieblas dispersas en zonas altas del sureste al principio y final del día que también serán probables en el interior de Lugo al final. Temperaturas mínimas en descenso en el litoral noroeste y con cambios ligeros en el resto. Temperaturas máximas en aumento. Heladas débiles en zonas altas de las sierras del sureste. Vientos flojos variables."
      ],
      "text/plain": [
       "<IPython.core.display.HTML object>"
      ]
     },
     "metadata": {},
     "output_type": "display_data"
    },
    {
     "name": "stdout",
     "output_type": "stream",
     "text": [
      "\n"
     ]
    },
    {
     "data": {
      "text/html": [
       "<h3 style=\"text-decoration:underline\">Comunidad de Madrid</h3>"
      ],
      "text/plain": [
       "<IPython.core.display.HTML object>"
      ]
     },
     "metadata": {},
     "output_type": "display_data"
    },
    {
     "data": {
      "text/html": [
       "<span style=\"font-weight:bold\">Fecha de publicación de la previsión:</span> 2 de febrero de 2025 a las 12:35"
      ],
      "text/plain": [
       "<IPython.core.display.HTML object>"
      ]
     },
     "metadata": {},
     "output_type": "display_data"
    },
    {
     "data": {
      "text/html": [
       "<span style=\"font-weight:bold\">Fenómenos significativos:</span> No se esperan."
      ],
      "text/plain": [
       "<IPython.core.display.HTML object>"
      ]
     },
     "metadata": {},
     "output_type": "display_data"
    },
    {
     "data": {
      "text/html": [
       "<span style=\"font-weight:bold\">Predicción:</span> Poco nuboso o despejado. Temperaturas mínimas sin cambios en la Sierra y en ascenso en el resto; máximas sin cambios o en ligero aumento que será localmente más acusado en el tercio oriental. Heladas débiles en la Sierra, localmente moderadas en cumbres. Vientos flojos del nordeste y este que tenderán a variables al final de la tarde."
      ],
      "text/plain": [
       "<IPython.core.display.HTML object>"
      ]
     },
     "metadata": {},
     "output_type": "display_data"
    },
    {
     "name": "stdout",
     "output_type": "stream",
     "text": [
      "\n"
     ]
    },
    {
     "data": {
      "text/html": [
       "<h3 style=\"text-decoration:underline\">Murcia</h3>"
      ],
      "text/plain": [
       "<IPython.core.display.HTML object>"
      ]
     },
     "metadata": {},
     "output_type": "display_data"
    },
    {
     "data": {
      "text/html": [
       "<span style=\"font-weight:bold\">Fecha de publicación de la previsión:</span> 2 de febrero de 2025 a las 12:35"
      ],
      "text/plain": [
       "<IPython.core.display.HTML object>"
      ]
     },
     "metadata": {},
     "output_type": "display_data"
    },
    {
     "data": {
      "text/html": [
       "<span style=\"font-weight:bold\">Fenómenos significativos:</span> No se esperan."
      ],
      "text/plain": [
       "<IPython.core.display.HTML object>"
      ]
     },
     "metadata": {},
     "output_type": "display_data"
    },
    {
     "data": {
      "text/html": [
       "<span style=\"font-weight:bold\">Predicción:</span> Cielos nubosos con precipitaciones débiles, localmente moderadas, poco probables en el norte de la región, abriéndose en general claros al final del día. Cota de nieve oscilando entre 1200 y 1500 metros. Brumas matinales. Temperaturas mínimas sin cambios, con heladas débiles aisladas en el norte de la región; máximas en descenso. Vientos flojos de componente este, aumentando a moderados en el litoral, más intensos durante la tarde."
      ],
      "text/plain": [
       "<IPython.core.display.HTML object>"
      ]
     },
     "metadata": {},
     "output_type": "display_data"
    },
    {
     "name": "stdout",
     "output_type": "stream",
     "text": [
      "\n"
     ]
    },
    {
     "data": {
      "text/html": [
       "<h3 style=\"text-decoration:underline\">Navarra</h3>"
      ],
      "text/plain": [
       "<IPython.core.display.HTML object>"
      ]
     },
     "metadata": {},
     "output_type": "display_data"
    },
    {
     "data": {
      "text/html": [
       "<span style=\"font-weight:bold\">Fecha de publicación de la previsión:</span> 2 de febrero de 2025 a las 12:44"
      ],
      "text/plain": [
       "<IPython.core.display.HTML object>"
      ]
     },
     "metadata": {},
     "output_type": "display_data"
    },
    {
     "data": {
      "text/html": [
       "<span style=\"font-weight:bold\">Fenómenos significativos:</span> No se esperan."
      ],
      "text/plain": [
       "<IPython.core.display.HTML object>"
      ]
     },
     "metadata": {},
     "output_type": "display_data"
    },
    {
     "data": {
      "text/html": [
       "<span style=\"font-weight:bold\">Predicción:</span> Intervalos nubosos abriéndose claros en las horas centrales, más frecuentes en la mitad sur de la Comunidad. Brumas y probabilidad de nieblas dispersas en zonas altas del tercio norte al principio y final del día. Temperaturas mínimas en aumento en la mitad norte y con cambios ligeros en el resto. Temperaturas máximas con cambios ligeros predominando los aumentos en la mitad oriental. Heladas débiles en el Pirineo, localmente moderadas en zonas altas. Vientos flojos del norte y noroeste."
      ],
      "text/plain": [
       "<IPython.core.display.HTML object>"
      ]
     },
     "metadata": {},
     "output_type": "display_data"
    },
    {
     "name": "stdout",
     "output_type": "stream",
     "text": [
      "\n"
     ]
    },
    {
     "data": {
      "text/html": [
       "<h3 style=\"text-decoration:underline\">País Vasco</h3>"
      ],
      "text/plain": [
       "<IPython.core.display.HTML object>"
      ]
     },
     "metadata": {},
     "output_type": "display_data"
    },
    {
     "data": {
      "text/html": [
       "<span style=\"font-weight:bold\">Fecha de publicación de la previsión:</span> 2 de febrero de 2025 a las 12:45"
      ],
      "text/plain": [
       "<IPython.core.display.HTML object>"
      ]
     },
     "metadata": {},
     "output_type": "display_data"
    },
    {
     "data": {
      "text/html": [
       "<span style=\"font-weight:bold\">Fenómenos significativos:</span> No se esperan."
      ],
      "text/plain": [
       "<IPython.core.display.HTML object>"
      ]
     },
     "metadata": {},
     "output_type": "display_data"
    },
    {
     "data": {
      "text/html": [
       "<span style=\"font-weight:bold\">Predicción:</span> Nuboso o con intervalos nubosos. No se descarta alguna precipitación débil y dispersa en el litoral por la mañana. Brumas y probabilidad de nieblas dispersas en zonas altas del interior al principio del día que se extenderán a otras zonas bajas del interior al final. Temperaturas con cambios ligeros. Vientos flojos variables."
      ],
      "text/plain": [
       "<IPython.core.display.HTML object>"
      ]
     },
     "metadata": {},
     "output_type": "display_data"
    },
    {
     "name": "stdout",
     "output_type": "stream",
     "text": [
      "\n"
     ]
    },
    {
     "data": {
      "text/html": [
       "<h3 style=\"text-decoration:underline\">La Rioja</h3>"
      ],
      "text/plain": [
       "<IPython.core.display.HTML object>"
      ]
     },
     "metadata": {},
     "output_type": "display_data"
    },
    {
     "data": {
      "text/html": [
       "<span style=\"font-weight:bold\">Fecha de publicación de la previsión:</span> 2 de febrero de 2025 a las 13:40"
      ],
      "text/plain": [
       "<IPython.core.display.HTML object>"
      ]
     },
     "metadata": {},
     "output_type": "display_data"
    },
    {
     "data": {
      "text/html": [
       "<span style=\"font-weight:bold\">Fenómenos significativos:</span> No se esperan."
      ],
      "text/plain": [
       "<IPython.core.display.HTML object>"
      ]
     },
     "metadata": {},
     "output_type": "display_data"
    },
    {
     "data": {
      "text/html": [
       "<span style=\"font-weight:bold\">Predicción:</span> Nubosidad baja durante la mañana, con posibilidad de alguna bruma o banco de niebla, tendiendo a poco nuboso o despejado por la tarde. Temperaturas mínimas en ascenso y máximas con pocos cambios, con heladas débiles en la Ibérica, que podrán ser localmente moderadas en zonas altas. Viento flojo variable."
      ],
      "text/plain": [
       "<IPython.core.display.HTML object>"
      ]
     },
     "metadata": {},
     "output_type": "display_data"
    },
    {
     "name": "stdout",
     "output_type": "stream",
     "text": [
      "\n"
     ]
    }
   ],
   "source": [
    "# CELDA PRINCIPAL\n",
    "# En un bucle consultamos los datos del diccionario Regiones,  \n",
    "# donde están los nombres de las regiones y las URLs de consulta a la API\n",
    "# y posteriormente se ejecuta la función que hace esa consulta\n",
    "\n",
    "display(HTML(f'<h2>Predicción del tiempo para el {mañana()}</h2>'))\n",
    "for a,b in regiones.items():\n",
    "    consulta_api(a,b)"
   ]
  }
 ],
 "metadata": {
  "kernelspec": {
   "display_name": "Python 3 (ipykernel)",
   "language": "python",
   "name": "python3"
  },
  "language_info": {
   "codemirror_mode": {
    "name": "ipython",
    "version": 3
   },
   "file_extension": ".py",
   "mimetype": "text/x-python",
   "name": "python",
   "nbconvert_exporter": "python",
   "pygments_lexer": "ipython3",
   "version": "3.12.3"
  }
 },
 "nbformat": 4,
 "nbformat_minor": 5
}
